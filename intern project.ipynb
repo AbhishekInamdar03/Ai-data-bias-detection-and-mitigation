{
 "cells": [
  {
   "cell_type": "code",
   "execution_count": 17,
   "id": "137eddd4",
   "metadata": {},
   "outputs": [],
   "source": [
    "# Cell 1: Import libraries (with warnings suppressed)\n",
    "\n",
    "import warnings\n",
    "import logging\n",
    "\n",
    "# Suppress warnings from libraries\n",
    "warnings.filterwarnings('ignore')\n",
    "logging.getLogger().setLevel(logging.ERROR)\n",
    "\n",
    "import pandas as pd\n",
    "import numpy as np\n",
    "import matplotlib.pyplot as plt\n",
    "import seaborn as sns\n",
    "\n",
    "from sklearn.model_selection import train_test_split\n",
    "from sklearn.linear_model import LogisticRegression\n",
    "from sklearn.metrics import accuracy_score, confusion_matrix\n",
    "\n",
    "from aif360.datasets import CompasDataset\n",
    "from aif360.algorithms.preprocessing import Reweighing\n",
    "from aif360.algorithms.postprocessing import RejectOptionClassification\n",
    "from aif360.metrics import BinaryLabelDatasetMetric, ClassificationMetric\n",
    "from aif360.sklearn.metrics import disparate_impact_ratio\n",
    "\n",
    "from fairlearn.metrics import MetricFrame, selection_rate, true_positive_rate\n",
    "\n",
    "import os\n",
    "import urllib.request\n"
   ]
  },
  {
   "cell_type": "code",
   "execution_count": 18,
   "id": "cf74875d",
   "metadata": {},
   "outputs": [],
   "source": [
    "# Cell 2: Download the COMPAS dataset if not present\n",
    "\n",
    "try:\n",
    "    base_dir = os.path.dirname(__file__)\n",
    "except NameError:\n",
    "    base_dir = os.getcwd()  # Fallback for Jupyter\n",
    "\n",
    "data_path = os.path.join(base_dir, 'data', 'raw', 'compas')\n",
    "file_path = os.path.join(data_path, 'compas-scores-two-years.csv')\n",
    "\n",
    "if not os.path.exists(file_path):\n",
    "    os.makedirs(data_path, exist_ok=True)\n",
    "    print(\"Downloading COMPAS dataset...\")\n",
    "    url = \"https://raw.githubusercontent.com/propublica/compas-analysis/master/compas-scores-two-years.csv\"\n",
    "    urllib.request.urlretrieve(url, file_path)\n",
    "    print(\"Download complete.\")\n"
   ]
  },
  {
   "cell_type": "code",
   "execution_count": 19,
   "id": "39868e53",
   "metadata": {},
   "outputs": [],
   "source": [
    "# Cell 3: Load and split the dataset\n",
    "\n",
    "dataset_orig = CompasDataset()\n",
    "\n",
    "# Split into training and testing sets (80% train, 20% test)\n",
    "train, test = dataset_orig.split([0.8], shuffle=True)\n"
   ]
  },
  {
   "cell_type": "code",
   "execution_count": 20,
   "id": "522280d1",
   "metadata": {},
   "outputs": [],
   "source": [
    "# Cell 4: Train baseline Logistic Regression model\n",
    "\n",
    "X_train, y_train = train.features, train.labels.ravel()\n",
    "X_test, y_test = test.features, test.labels.ravel()\n",
    "\n",
    "clf = LogisticRegression(max_iter=1000)\n",
    "clf.fit(X_train, y_train)\n",
    "y_pred = clf.predict(X_test)\n"
   ]
  },
  {
   "cell_type": "code",
   "execution_count": 21,
   "id": "65c60ccf",
   "metadata": {},
   "outputs": [
    {
     "name": "stdout",
     "output_type": "stream",
     "text": [
      "Baseline Accuracy: 0.6620745542949756\n"
     ]
    }
   ],
   "source": [
    "# Cell 5: Evaluate baseline model accuracy\n",
    "\n",
    "print(\"Baseline Accuracy:\", accuracy_score(y_test, y_pred))\n"
   ]
  },
  {
   "cell_type": "code",
   "execution_count": 22,
   "id": "2b154fa2",
   "metadata": {},
   "outputs": [
    {
     "name": "stdout",
     "output_type": "stream",
     "text": [
      "Disparate Impact: 0.8374427703321401\n",
      "Equal Opportunity Difference: -0.05930740422802272\n"
     ]
    }
   ],
   "source": [
    "# Cell 6: Prepare predictions for fairness evaluation\n",
    "\n",
    "pred_dataset = test.copy()\n",
    "pred_dataset.labels = y_pred.reshape(-1, 1)\n",
    "\n",
    "metric = ClassificationMetric(test, pred_dataset,\n",
    "                               privileged_groups=[{'race': 1}],\n",
    "                               unprivileged_groups=[{'race': 0}])\n",
    "\n",
    "print(\"Disparate Impact:\", metric.disparate_impact())\n",
    "print(\"Equal Opportunity Difference:\", metric.equal_opportunity_difference())\n"
   ]
  },
  {
   "cell_type": "code",
   "execution_count": 23,
   "id": "2b50aa36",
   "metadata": {},
   "outputs": [],
   "source": [
    "# Cell 7: Apply Reweighing preprocessing to mitigate bias\n",
    "\n",
    "RW = Reweighing(unprivileged_groups=[{'race': 0}],\n",
    "                privileged_groups=[{'race': 1}])\n",
    "train_rw = RW.fit_transform(train)\n"
   ]
  },
  {
   "cell_type": "code",
   "execution_count": 24,
   "id": "ebe0208c",
   "metadata": {},
   "outputs": [],
   "source": [
    "# Cell 8: Train Logistic Regression model with reweighed data\n",
    "\n",
    "clf_rw = LogisticRegression(max_iter=1000)\n",
    "clf_rw.fit(train_rw.features, train_rw.labels.ravel(), sample_weight=train_rw.instance_weights)\n",
    "y_pred_rw = clf_rw.predict(X_test)\n"
   ]
  },
  {
   "cell_type": "code",
   "execution_count": 25,
   "id": "f794cea3",
   "metadata": {},
   "outputs": [
    {
     "name": "stdout",
     "output_type": "stream",
     "text": [
      "\n",
      "Reweighing Accuracy: 0.6547811993517018\n",
      "Disparate Impact: 1.0476718403547671\n",
      "Equal Opportunity Difference: 0.06822190987387633\n"
     ]
    }
   ],
   "source": [
    "# Cell 9: Evaluate reweighing model accuracy and fairness\n",
    "\n",
    "rw_dataset = test.copy()\n",
    "rw_dataset.labels = y_pred_rw.reshape(-1, 1)\n",
    "metric_rw = ClassificationMetric(test, rw_dataset,\n",
    "                                 privileged_groups=[{'race': 1}],\n",
    "                                 unprivileged_groups=[{'race': 0}])\n",
    "\n",
    "print(\"\\nReweighing Accuracy:\", accuracy_score(y_test, y_pred_rw))\n",
    "print(\"Disparate Impact:\", metric_rw.disparate_impact())\n",
    "print(\"Equal Opportunity Difference:\", metric_rw.equal_opportunity_difference())\n"
   ]
  },
  {
   "cell_type": "code",
   "execution_count": 26,
   "id": "5f45e0e7",
   "metadata": {},
   "outputs": [],
   "source": [
    "# Cell 10: Apply Reject Option Classification post-processing\n",
    "\n",
    "ROC = RejectOptionClassification(unprivileged_groups=[{'race': 0}],\n",
    "                                 privileged_groups=[{'race': 1}])\n",
    "ROC = ROC.fit(test, pred_dataset)\n",
    "preds_post = ROC.predict(pred_dataset)\n"
   ]
  },
  {
   "cell_type": "code",
   "execution_count": 27,
   "id": "8a095a9f",
   "metadata": {},
   "outputs": [
    {
     "name": "stdout",
     "output_type": "stream",
     "text": [
      "\n",
      "Reject Option Accuracy: 1.0\n",
      "Disparate Impact: 0.8361419068736141\n",
      "Equal Opportunity Difference: 0.0\n"
     ]
    }
   ],
   "source": [
    "# Cell 11: Evaluate post-processed model accuracy and fairness\n",
    "\n",
    "metric_post = ClassificationMetric(test, preds_post,\n",
    "                                   privileged_groups=[{'race': 1}],\n",
    "                                   unprivileged_groups=[{'race': 0}])\n",
    "\n",
    "print(\"\\nReject Option Accuracy:\", accuracy_score(y_test, preds_post.labels))\n",
    "print(\"Disparate Impact:\", metric_post.disparate_impact())\n",
    "print(\"Equal Opportunity Difference:\", metric_post.equal_opportunity_difference())\n"
   ]
  },
  {
   "cell_type": "code",
   "execution_count": 28,
   "id": "48358bcf",
   "metadata": {},
   "outputs": [
    {
     "data": {
      "image/png": "[encoded data removed]",
      "text/plain": [
       "<Figure size 800x500 with 1 Axes>"
      ]
     },
     "metadata": {},
     "output_type": "display_data"
    }
   ],
   "source": [
    "# Cell 12: Visualize Equal Opportunity Differences across models\n",
    "\n",
    "labels = ['Baseline', 'Reweighing', 'Reject Option']\n",
    "eod = [metric.equal_opportunity_difference(),\n",
    "       metric_rw.equal_opportunity_difference(),\n",
    "       metric_post.equal_opportunity_difference()]\n",
    "\n",
    "plt.figure(figsize=(8, 5))\n",
    "sns.barplot(x=labels, y=eod)\n",
    "plt.title(\"Equal Opportunity Difference across Models\")\n",
    "plt.ylabel(\"|TPR_priv - TPR_unpriv|\")\n",
    "plt.ylim(0, 0.5)\n",
    "plt.grid(True)\n",
    "plt.show()\n"
   ]
  }
 ],
 "metadata": {
  "kernelspec": {
   "display_name": "data_m",
   "language": "python",
   "name": "python3"
  },
  "language_info": {
   "codemirror_mode": {
    "name": "ipython",
    "version": 3
   },
   "file_extension": ".py",
   "mimetype": "text/x-python",
   "name": "python",
   "nbconvert_exporter": "python",
   "pygments_lexer": "ipython3",
   "version": "3.11.9"
  }
 },
 "nbformat": 4,
 "nbformat_minor": 5
}
